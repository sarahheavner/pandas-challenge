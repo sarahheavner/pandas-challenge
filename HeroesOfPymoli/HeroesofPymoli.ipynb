{
 "cells": [
  {
   "cell_type": "code",
   "execution_count": 168,
   "metadata": {},
   "outputs": [],
   "source": [
    "#Import dependencies\n",
    "import pandas as pd"
   ]
  },
  {
   "cell_type": "code",
   "execution_count": 169,
   "metadata": {},
   "outputs": [
    {
     "data": {
      "text/html": [
       "<div>\n",
       "<style scoped>\n",
       "    .dataframe tbody tr th:only-of-type {\n",
       "        vertical-align: middle;\n",
       "    }\n",
       "\n",
       "    .dataframe tbody tr th {\n",
       "        vertical-align: top;\n",
       "    }\n",
       "\n",
       "    .dataframe thead th {\n",
       "        text-align: right;\n",
       "    }\n",
       "</style>\n",
       "<table border=\"1\" class=\"dataframe\">\n",
       "  <thead>\n",
       "    <tr style=\"text-align: right;\">\n",
       "      <th></th>\n",
       "      <th>Purchase ID</th>\n",
       "      <th>SN</th>\n",
       "      <th>Age</th>\n",
       "      <th>Gender</th>\n",
       "      <th>Item ID</th>\n",
       "      <th>Item Name</th>\n",
       "      <th>Price</th>\n",
       "    </tr>\n",
       "  </thead>\n",
       "  <tbody>\n",
       "    <tr>\n",
       "      <th>0</th>\n",
       "      <td>0</td>\n",
       "      <td>Lisim78</td>\n",
       "      <td>20</td>\n",
       "      <td>Male</td>\n",
       "      <td>108</td>\n",
       "      <td>Extraction, Quickblade Of Trembling Hands</td>\n",
       "      <td>3.53</td>\n",
       "    </tr>\n",
       "    <tr>\n",
       "      <th>1</th>\n",
       "      <td>1</td>\n",
       "      <td>Lisovynya38</td>\n",
       "      <td>40</td>\n",
       "      <td>Male</td>\n",
       "      <td>143</td>\n",
       "      <td>Frenzied Scimitar</td>\n",
       "      <td>1.56</td>\n",
       "    </tr>\n",
       "    <tr>\n",
       "      <th>2</th>\n",
       "      <td>2</td>\n",
       "      <td>Ithergue48</td>\n",
       "      <td>24</td>\n",
       "      <td>Male</td>\n",
       "      <td>92</td>\n",
       "      <td>Final Critic</td>\n",
       "      <td>4.88</td>\n",
       "    </tr>\n",
       "    <tr>\n",
       "      <th>3</th>\n",
       "      <td>3</td>\n",
       "      <td>Chamassasya86</td>\n",
       "      <td>24</td>\n",
       "      <td>Male</td>\n",
       "      <td>100</td>\n",
       "      <td>Blindscythe</td>\n",
       "      <td>3.27</td>\n",
       "    </tr>\n",
       "    <tr>\n",
       "      <th>4</th>\n",
       "      <td>4</td>\n",
       "      <td>Iskosia90</td>\n",
       "      <td>23</td>\n",
       "      <td>Male</td>\n",
       "      <td>131</td>\n",
       "      <td>Fury</td>\n",
       "      <td>1.44</td>\n",
       "    </tr>\n",
       "  </tbody>\n",
       "</table>\n",
       "</div>"
      ],
      "text/plain": [
       "   Purchase ID             SN  Age Gender  Item ID  \\\n",
       "0            0        Lisim78   20   Male      108   \n",
       "1            1    Lisovynya38   40   Male      143   \n",
       "2            2     Ithergue48   24   Male       92   \n",
       "3            3  Chamassasya86   24   Male      100   \n",
       "4            4      Iskosia90   23   Male      131   \n",
       "\n",
       "                                   Item Name  Price  \n",
       "0  Extraction, Quickblade Of Trembling Hands   3.53  \n",
       "1                          Frenzied Scimitar   1.56  \n",
       "2                               Final Critic   4.88  \n",
       "3                                Blindscythe   3.27  \n",
       "4                                       Fury   1.44  "
      ]
     },
     "execution_count": 169,
     "metadata": {},
     "output_type": "execute_result"
    }
   ],
   "source": [
    "#Set file path to read csv\n",
    "file_path = '../Resources/purchase_data.csv'\n",
    "\n",
    "#Create dataframe from csv file\n",
    "heroes_of_pymoli = pd.read_csv(file_path)\n",
    "heroes_of_pymoli.head()"
   ]
  },
  {
   "cell_type": "code",
   "execution_count": 170,
   "metadata": {},
   "outputs": [
    {
     "data": {
      "text/plain": [
       "576"
      ]
     },
     "execution_count": 170,
     "metadata": {},
     "output_type": "execute_result"
    }
   ],
   "source": [
    "#Find number of players\n",
    "player_count = heroes_of_pymoli['SN'].nunique()\n",
    "player_count"
   ]
  },
  {
   "cell_type": "code",
   "execution_count": 171,
   "metadata": {},
   "outputs": [
    {
     "data": {
      "text/html": [
       "<style  type=\"text/css\" >\n",
       "</style><table id=\"T_f1cff5f6_0c0e_11eb_953f_d0c5d373bd02\" ><thead>    <tr>        <th class=\"blank level0\" ></th>        <th class=\"col_heading level0 col0\" >Number of Unique Items</th>        <th class=\"col_heading level0 col1\" >Average Price</th>        <th class=\"col_heading level0 col2\" >Total Purchases</th>        <th class=\"col_heading level0 col3\" >Total Revenue</th>    </tr></thead><tbody>\n",
       "                <tr>\n",
       "                        <th id=\"T_f1cff5f6_0c0e_11eb_953f_d0c5d373bd02level0_row0\" class=\"row_heading level0 row0\" >0</th>\n",
       "                        <td id=\"T_f1cff5f6_0c0e_11eb_953f_d0c5d373bd02row0_col0\" class=\"data row0 col0\" >179</td>\n",
       "                        <td id=\"T_f1cff5f6_0c0e_11eb_953f_d0c5d373bd02row0_col1\" class=\"data row0 col1\" >$3.05</td>\n",
       "                        <td id=\"T_f1cff5f6_0c0e_11eb_953f_d0c5d373bd02row0_col2\" class=\"data row0 col2\" >780</td>\n",
       "                        <td id=\"T_f1cff5f6_0c0e_11eb_953f_d0c5d373bd02row0_col3\" class=\"data row0 col3\" >$2379.77</td>\n",
       "            </tr>\n",
       "    </tbody></table>"
      ],
      "text/plain": [
       "<pandas.io.formats.style.Styler at 0x21606433fd0>"
      ]
     },
     "execution_count": 171,
     "metadata": {},
     "output_type": "execute_result"
    }
   ],
   "source": [
    "#Purchasing Analysis\n",
    "#Find number of unique items, total number of purchases, average price, total revenue\n",
    "unique_items = heroes_of_pymoli['Item ID'].nunique()\n",
    "\n",
    "total_purchases = heroes_of_pymoli['Item ID'].count()\n",
    "\n",
    "average_price = heroes_of_pymoli['Price'].mean()\n",
    "\n",
    "total_revenue = heroes_of_pymoli['Price'].sum()\n",
    "\n",
    "#Create summary dataframe to hold Purchasing Analysis \n",
    "purchasing_summary = pd.DataFrame({'Number of Unique Items': [unique_items], 'Average Price' : [average_price], 'Total Purchases' : [total_purchases], 'Total Revenue' : [total_revenue]})\n",
    "\n",
    "#Display Purchasing Summary\n",
    "purchasing_summary.style.format({'Average Price': '${:.2f}', 'Total Revenue': '${:.2f}'})\n",
    "\n"
   ]
  },
  {
   "cell_type": "code",
   "execution_count": 172,
   "metadata": {},
   "outputs": [
    {
     "data": {
      "text/html": [
       "<style  type=\"text/css\" >\n",
       "</style><table id=\"T_f529075c_0c0e_11eb_8917_d0c5d373bd02\" ><thead>    <tr>        <th class=\"blank level0\" ></th>        <th class=\"col_heading level0 col0\" >Total Count</th>        <th class=\"col_heading level0 col1\" >Percentage of Players</th>    </tr></thead><tbody>\n",
       "                <tr>\n",
       "                        <th id=\"T_f529075c_0c0e_11eb_8917_d0c5d373bd02level0_row0\" class=\"row_heading level0 row0\" >Male</th>\n",
       "                        <td id=\"T_f529075c_0c0e_11eb_8917_d0c5d373bd02row0_col0\" class=\"data row0 col0\" >484</td>\n",
       "                        <td id=\"T_f529075c_0c0e_11eb_8917_d0c5d373bd02row0_col1\" class=\"data row0 col1\" >84.03%</td>\n",
       "            </tr>\n",
       "            <tr>\n",
       "                        <th id=\"T_f529075c_0c0e_11eb_8917_d0c5d373bd02level0_row1\" class=\"row_heading level0 row1\" >Female</th>\n",
       "                        <td id=\"T_f529075c_0c0e_11eb_8917_d0c5d373bd02row1_col0\" class=\"data row1 col0\" >81</td>\n",
       "                        <td id=\"T_f529075c_0c0e_11eb_8917_d0c5d373bd02row1_col1\" class=\"data row1 col1\" >14.06%</td>\n",
       "            </tr>\n",
       "            <tr>\n",
       "                        <th id=\"T_f529075c_0c0e_11eb_8917_d0c5d373bd02level0_row2\" class=\"row_heading level0 row2\" >Other / Non-Disclosed</th>\n",
       "                        <td id=\"T_f529075c_0c0e_11eb_8917_d0c5d373bd02row2_col0\" class=\"data row2 col0\" >11</td>\n",
       "                        <td id=\"T_f529075c_0c0e_11eb_8917_d0c5d373bd02row2_col1\" class=\"data row2 col1\" >1.91%</td>\n",
       "            </tr>\n",
       "    </tbody></table>"
      ],
      "text/plain": [
       "<pandas.io.formats.style.Styler at 0x216052a0e80>"
      ]
     },
     "execution_count": 172,
     "metadata": {},
     "output_type": "execute_result"
    }
   ],
   "source": [
    "#Gender Demographics\n",
    "#Calculate count and percentage of players per gender\n",
    "gender_demo = heroes_of_pymoli.drop_duplicates(subset=['SN'])\n",
    "count = gender_demo['Gender'].value_counts()\n",
    "percentage = count/player_count *100\n",
    "\n",
    "#create DataFrame to dispay summary of gender demographics\n",
    "gender_demo_summary = pd.DataFrame({'Total Count': count, 'Percentage of Players': percentage})\n",
    "\n",
    "#Display summary table\n",
    "gender_demo_summary.style.format({\"Percentage of Players\": \"{:.2f}%\"})"
   ]
  },
  {
   "cell_type": "code",
   "execution_count": 173,
   "metadata": {},
   "outputs": [
    {
     "data": {
      "text/html": [
       "<style  type=\"text/css\" >\n",
       "</style><table id=\"T_fdb3b7ca_0c0e_11eb_ba0c_d0c5d373bd02\" ><thead>    <tr>        <th class=\"blank level0\" ></th>        <th class=\"col_heading level0 col0\" >Purchase Count</th>        <th class=\"col_heading level0 col1\" >Average Purchase Price</th>        <th class=\"col_heading level0 col2\" >Total Purchase Value</th>        <th class=\"col_heading level0 col3\" >Average Purchase Per Person</th>    </tr>    <tr>        <th class=\"index_name level0\" >Gender</th>        <th class=\"blank\" ></th>        <th class=\"blank\" ></th>        <th class=\"blank\" ></th>        <th class=\"blank\" ></th>    </tr></thead><tbody>\n",
       "                <tr>\n",
       "                        <th id=\"T_fdb3b7ca_0c0e_11eb_ba0c_d0c5d373bd02level0_row0\" class=\"row_heading level0 row0\" >Female</th>\n",
       "                        <td id=\"T_fdb3b7ca_0c0e_11eb_ba0c_d0c5d373bd02row0_col0\" class=\"data row0 col0\" >113</td>\n",
       "                        <td id=\"T_fdb3b7ca_0c0e_11eb_ba0c_d0c5d373bd02row0_col1\" class=\"data row0 col1\" >$3.20</td>\n",
       "                        <td id=\"T_fdb3b7ca_0c0e_11eb_ba0c_d0c5d373bd02row0_col2\" class=\"data row0 col2\" >$361.94</td>\n",
       "                        <td id=\"T_fdb3b7ca_0c0e_11eb_ba0c_d0c5d373bd02row0_col3\" class=\"data row0 col3\" >$4.47</td>\n",
       "            </tr>\n",
       "            <tr>\n",
       "                        <th id=\"T_fdb3b7ca_0c0e_11eb_ba0c_d0c5d373bd02level0_row1\" class=\"row_heading level0 row1\" >Male</th>\n",
       "                        <td id=\"T_fdb3b7ca_0c0e_11eb_ba0c_d0c5d373bd02row1_col0\" class=\"data row1 col0\" >652</td>\n",
       "                        <td id=\"T_fdb3b7ca_0c0e_11eb_ba0c_d0c5d373bd02row1_col1\" class=\"data row1 col1\" >$3.02</td>\n",
       "                        <td id=\"T_fdb3b7ca_0c0e_11eb_ba0c_d0c5d373bd02row1_col2\" class=\"data row1 col2\" >$1967.64</td>\n",
       "                        <td id=\"T_fdb3b7ca_0c0e_11eb_ba0c_d0c5d373bd02row1_col3\" class=\"data row1 col3\" >$4.07</td>\n",
       "            </tr>\n",
       "            <tr>\n",
       "                        <th id=\"T_fdb3b7ca_0c0e_11eb_ba0c_d0c5d373bd02level0_row2\" class=\"row_heading level0 row2\" >Other / Non-Disclosed</th>\n",
       "                        <td id=\"T_fdb3b7ca_0c0e_11eb_ba0c_d0c5d373bd02row2_col0\" class=\"data row2 col0\" >15</td>\n",
       "                        <td id=\"T_fdb3b7ca_0c0e_11eb_ba0c_d0c5d373bd02row2_col1\" class=\"data row2 col1\" >$3.35</td>\n",
       "                        <td id=\"T_fdb3b7ca_0c0e_11eb_ba0c_d0c5d373bd02row2_col2\" class=\"data row2 col2\" >$50.19</td>\n",
       "                        <td id=\"T_fdb3b7ca_0c0e_11eb_ba0c_d0c5d373bd02row2_col3\" class=\"data row2 col3\" >$4.56</td>\n",
       "            </tr>\n",
       "    </tbody></table>"
      ],
      "text/plain": [
       "<pandas.io.formats.style.Styler at 0x2160529a0b8>"
      ]
     },
     "execution_count": 173,
     "metadata": {},
     "output_type": "execute_result"
    }
   ],
   "source": [
    "#Gender Purchasing Analysis\n",
    "#Run calculations to obtain purchase count, avg. purchase price, avg. purchase total per person etc. by gender\n",
    "gender_purchases = heroes_of_pymoli.groupby(['Gender']).count()['Purchase ID']\n",
    "gender_avg_purchase = heroes_of_pymoli.groupby(['Gender']).mean()['Price']\n",
    "gender_total_purchase = (gender_purchases * gender_avg_purchase)\n",
    "gender_avg_per_person = (gender_total_purchase / count)\n",
    "\n",
    "#Create a summary data frame to hold the results\n",
    "gender_purchase_analysis = pd.DataFrame({'Purchase Count':gender_purchases, 'Average Purchase Price':gender_avg_purchase, 'Total Purchase Value':gender_total_purchase, 'Average Purchase Per Person':gender_avg_per_person})\n",
    "\n",
    "#Display the summary data frame\n",
    "gender_purchase_analysis.style.format({'Average Purchase Price': '${:.2f}', 'Total Purchase Value': '${:.2f}', 'Average Purchase Per Person': '${:.2f}'})"
   ]
  },
  {
   "cell_type": "code",
   "execution_count": 174,
   "metadata": {},
   "outputs": [
    {
     "name": "stderr",
     "output_type": "stream",
     "text": [
      "C:\\Users\\Sarah Jr\\anaconda3\\envs\\PythonData\\lib\\site-packages\\ipykernel_launcher.py:8: SettingWithCopyWarning: \n",
      "A value is trying to be set on a copy of a slice from a DataFrame.\n",
      "Try using .loc[row_indexer,col_indexer] = value instead\n",
      "\n",
      "See the caveats in the documentation: https://pandas.pydata.org/pandas-docs/stable/user_guide/indexing.html#returning-a-view-versus-a-copy\n",
      "  \n"
     ]
    },
    {
     "data": {
      "text/html": [
       "<style  type=\"text/css\" >\n",
       "</style><table id=\"T_ff7489ee_0c0e_11eb_9cf2_d0c5d373bd02\" ><thead>    <tr>        <th class=\"blank level0\" ></th>        <th class=\"col_heading level0 col0\" >Total Count</th>        <th class=\"col_heading level0 col1\" >Percentage of Players</th>    </tr></thead><tbody>\n",
       "                <tr>\n",
       "                        <th id=\"T_ff7489ee_0c0e_11eb_9cf2_d0c5d373bd02level0_row0\" class=\"row_heading level0 row0\" >20-24</th>\n",
       "                        <td id=\"T_ff7489ee_0c0e_11eb_9cf2_d0c5d373bd02row0_col0\" class=\"data row0 col0\" >258</td>\n",
       "                        <td id=\"T_ff7489ee_0c0e_11eb_9cf2_d0c5d373bd02row0_col1\" class=\"data row0 col1\" >44.79%</td>\n",
       "            </tr>\n",
       "            <tr>\n",
       "                        <th id=\"T_ff7489ee_0c0e_11eb_9cf2_d0c5d373bd02level0_row1\" class=\"row_heading level0 row1\" >15-19</th>\n",
       "                        <td id=\"T_ff7489ee_0c0e_11eb_9cf2_d0c5d373bd02row1_col0\" class=\"data row1 col0\" >107</td>\n",
       "                        <td id=\"T_ff7489ee_0c0e_11eb_9cf2_d0c5d373bd02row1_col1\" class=\"data row1 col1\" >18.58%</td>\n",
       "            </tr>\n",
       "            <tr>\n",
       "                        <th id=\"T_ff7489ee_0c0e_11eb_9cf2_d0c5d373bd02level0_row2\" class=\"row_heading level0 row2\" >25-29</th>\n",
       "                        <td id=\"T_ff7489ee_0c0e_11eb_9cf2_d0c5d373bd02row2_col0\" class=\"data row2 col0\" >77</td>\n",
       "                        <td id=\"T_ff7489ee_0c0e_11eb_9cf2_d0c5d373bd02row2_col1\" class=\"data row2 col1\" >13.37%</td>\n",
       "            </tr>\n",
       "            <tr>\n",
       "                        <th id=\"T_ff7489ee_0c0e_11eb_9cf2_d0c5d373bd02level0_row3\" class=\"row_heading level0 row3\" >30-34</th>\n",
       "                        <td id=\"T_ff7489ee_0c0e_11eb_9cf2_d0c5d373bd02row3_col0\" class=\"data row3 col0\" >52</td>\n",
       "                        <td id=\"T_ff7489ee_0c0e_11eb_9cf2_d0c5d373bd02row3_col1\" class=\"data row3 col1\" >9.03%</td>\n",
       "            </tr>\n",
       "            <tr>\n",
       "                        <th id=\"T_ff7489ee_0c0e_11eb_9cf2_d0c5d373bd02level0_row4\" class=\"row_heading level0 row4\" >35-39</th>\n",
       "                        <td id=\"T_ff7489ee_0c0e_11eb_9cf2_d0c5d373bd02row4_col0\" class=\"data row4 col0\" >31</td>\n",
       "                        <td id=\"T_ff7489ee_0c0e_11eb_9cf2_d0c5d373bd02row4_col1\" class=\"data row4 col1\" >5.38%</td>\n",
       "            </tr>\n",
       "            <tr>\n",
       "                        <th id=\"T_ff7489ee_0c0e_11eb_9cf2_d0c5d373bd02level0_row5\" class=\"row_heading level0 row5\" >10-14</th>\n",
       "                        <td id=\"T_ff7489ee_0c0e_11eb_9cf2_d0c5d373bd02row5_col0\" class=\"data row5 col0\" >22</td>\n",
       "                        <td id=\"T_ff7489ee_0c0e_11eb_9cf2_d0c5d373bd02row5_col1\" class=\"data row5 col1\" >3.82%</td>\n",
       "            </tr>\n",
       "            <tr>\n",
       "                        <th id=\"T_ff7489ee_0c0e_11eb_9cf2_d0c5d373bd02level0_row6\" class=\"row_heading level0 row6\" ><10</th>\n",
       "                        <td id=\"T_ff7489ee_0c0e_11eb_9cf2_d0c5d373bd02row6_col0\" class=\"data row6 col0\" >17</td>\n",
       "                        <td id=\"T_ff7489ee_0c0e_11eb_9cf2_d0c5d373bd02row6_col1\" class=\"data row6 col1\" >2.95%</td>\n",
       "            </tr>\n",
       "            <tr>\n",
       "                        <th id=\"T_ff7489ee_0c0e_11eb_9cf2_d0c5d373bd02level0_row7\" class=\"row_heading level0 row7\" >>40</th>\n",
       "                        <td id=\"T_ff7489ee_0c0e_11eb_9cf2_d0c5d373bd02row7_col0\" class=\"data row7 col0\" >12</td>\n",
       "                        <td id=\"T_ff7489ee_0c0e_11eb_9cf2_d0c5d373bd02row7_col1\" class=\"data row7 col1\" >2.08%</td>\n",
       "            </tr>\n",
       "    </tbody></table>"
      ],
      "text/plain": [
       "<pandas.io.formats.style.Styler at 0x21606433710>"
      ]
     },
     "execution_count": 174,
     "metadata": {},
     "output_type": "execute_result"
    }
   ],
   "source": [
    "#Age Demographics\n",
    "#Establish bins for ages\n",
    "bins = [0, 9, 14, 19, 24, 29, 34, 39, 100]\n",
    "group_names = ['<10', '10-14', '15-19', '20-24', '25-29', '30-34', '35-39', '>40']\n",
    "\n",
    "#Categorize the existing players using the age bins. Hint: use pd.cut()\n",
    "age_demo = heroes_of_pymoli.drop_duplicates(subset=['SN'])\n",
    "age_demo['Age Group'] = pd.cut(age_demo['Age'], bins, labels=group_names, include_lowest=True)\n",
    "\n",
    "#Calculate the numbers and percentages by age group\n",
    "count = age_demo['Age Group'].value_counts()\n",
    "percentage = count/player_count *100\n",
    "percentage\n",
    "\n",
    "#Create a summary data frame to hold the results\n",
    "age_demographics = pd.DataFrame({'Total Count': count, 'Percentage of Players': percentage})\n",
    "\n",
    "#Display Age Demographics Table\n",
    "age_demographics.style.format({\"Percentage of Players\": \"{:.2f}%\"})"
   ]
  },
  {
   "cell_type": "code",
   "execution_count": 175,
   "metadata": {},
   "outputs": [
    {
     "data": {
      "text/html": [
       "<style  type=\"text/css\" >\n",
       "</style><table id=\"T_0ef233a4_0c0f_11eb_a9a1_d0c5d373bd02\" ><thead>    <tr>        <th class=\"blank level0\" ></th>        <th class=\"col_heading level0 col0\" >Purchase Count</th>        <th class=\"col_heading level0 col1\" >Average Purchase Price</th>        <th class=\"col_heading level0 col2\" >Total Purchase Value</th>        <th class=\"col_heading level0 col3\" >Avg Purchase Per Person</th>    </tr></thead><tbody>\n",
       "                <tr>\n",
       "                        <th id=\"T_0ef233a4_0c0f_11eb_a9a1_d0c5d373bd02level0_row0\" class=\"row_heading level0 row0\" ><10</th>\n",
       "                        <td id=\"T_0ef233a4_0c0f_11eb_a9a1_d0c5d373bd02row0_col0\" class=\"data row0 col0\" >23</td>\n",
       "                        <td id=\"T_0ef233a4_0c0f_11eb_a9a1_d0c5d373bd02row0_col1\" class=\"data row0 col1\" >$3.35</td>\n",
       "                        <td id=\"T_0ef233a4_0c0f_11eb_a9a1_d0c5d373bd02row0_col2\" class=\"data row0 col2\" >$77.13</td>\n",
       "                        <td id=\"T_0ef233a4_0c0f_11eb_a9a1_d0c5d373bd02row0_col3\" class=\"data row0 col3\" >$4.54</td>\n",
       "            </tr>\n",
       "            <tr>\n",
       "                        <th id=\"T_0ef233a4_0c0f_11eb_a9a1_d0c5d373bd02level0_row1\" class=\"row_heading level0 row1\" >10-14</th>\n",
       "                        <td id=\"T_0ef233a4_0c0f_11eb_a9a1_d0c5d373bd02row1_col0\" class=\"data row1 col0\" >28</td>\n",
       "                        <td id=\"T_0ef233a4_0c0f_11eb_a9a1_d0c5d373bd02row1_col1\" class=\"data row1 col1\" >$2.96</td>\n",
       "                        <td id=\"T_0ef233a4_0c0f_11eb_a9a1_d0c5d373bd02row1_col2\" class=\"data row1 col2\" >$82.78</td>\n",
       "                        <td id=\"T_0ef233a4_0c0f_11eb_a9a1_d0c5d373bd02row1_col3\" class=\"data row1 col3\" >$3.76</td>\n",
       "            </tr>\n",
       "            <tr>\n",
       "                        <th id=\"T_0ef233a4_0c0f_11eb_a9a1_d0c5d373bd02level0_row2\" class=\"row_heading level0 row2\" >15-19</th>\n",
       "                        <td id=\"T_0ef233a4_0c0f_11eb_a9a1_d0c5d373bd02row2_col0\" class=\"data row2 col0\" >136</td>\n",
       "                        <td id=\"T_0ef233a4_0c0f_11eb_a9a1_d0c5d373bd02row2_col1\" class=\"data row2 col1\" >$3.04</td>\n",
       "                        <td id=\"T_0ef233a4_0c0f_11eb_a9a1_d0c5d373bd02row2_col2\" class=\"data row2 col2\" >$412.89</td>\n",
       "                        <td id=\"T_0ef233a4_0c0f_11eb_a9a1_d0c5d373bd02row2_col3\" class=\"data row2 col3\" >$3.86</td>\n",
       "            </tr>\n",
       "            <tr>\n",
       "                        <th id=\"T_0ef233a4_0c0f_11eb_a9a1_d0c5d373bd02level0_row3\" class=\"row_heading level0 row3\" >20-24</th>\n",
       "                        <td id=\"T_0ef233a4_0c0f_11eb_a9a1_d0c5d373bd02row3_col0\" class=\"data row3 col0\" >365</td>\n",
       "                        <td id=\"T_0ef233a4_0c0f_11eb_a9a1_d0c5d373bd02row3_col1\" class=\"data row3 col1\" >$3.05</td>\n",
       "                        <td id=\"T_0ef233a4_0c0f_11eb_a9a1_d0c5d373bd02row3_col2\" class=\"data row3 col2\" >$1114.06</td>\n",
       "                        <td id=\"T_0ef233a4_0c0f_11eb_a9a1_d0c5d373bd02row3_col3\" class=\"data row3 col3\" >$4.32</td>\n",
       "            </tr>\n",
       "            <tr>\n",
       "                        <th id=\"T_0ef233a4_0c0f_11eb_a9a1_d0c5d373bd02level0_row4\" class=\"row_heading level0 row4\" >25-29</th>\n",
       "                        <td id=\"T_0ef233a4_0c0f_11eb_a9a1_d0c5d373bd02row4_col0\" class=\"data row4 col0\" >101</td>\n",
       "                        <td id=\"T_0ef233a4_0c0f_11eb_a9a1_d0c5d373bd02row4_col1\" class=\"data row4 col1\" >$2.90</td>\n",
       "                        <td id=\"T_0ef233a4_0c0f_11eb_a9a1_d0c5d373bd02row4_col2\" class=\"data row4 col2\" >$293.00</td>\n",
       "                        <td id=\"T_0ef233a4_0c0f_11eb_a9a1_d0c5d373bd02row4_col3\" class=\"data row4 col3\" >$3.81</td>\n",
       "            </tr>\n",
       "            <tr>\n",
       "                        <th id=\"T_0ef233a4_0c0f_11eb_a9a1_d0c5d373bd02level0_row5\" class=\"row_heading level0 row5\" >30-34</th>\n",
       "                        <td id=\"T_0ef233a4_0c0f_11eb_a9a1_d0c5d373bd02row5_col0\" class=\"data row5 col0\" >73</td>\n",
       "                        <td id=\"T_0ef233a4_0c0f_11eb_a9a1_d0c5d373bd02row5_col1\" class=\"data row5 col1\" >$2.93</td>\n",
       "                        <td id=\"T_0ef233a4_0c0f_11eb_a9a1_d0c5d373bd02row5_col2\" class=\"data row5 col2\" >$214.00</td>\n",
       "                        <td id=\"T_0ef233a4_0c0f_11eb_a9a1_d0c5d373bd02row5_col3\" class=\"data row5 col3\" >$4.12</td>\n",
       "            </tr>\n",
       "            <tr>\n",
       "                        <th id=\"T_0ef233a4_0c0f_11eb_a9a1_d0c5d373bd02level0_row6\" class=\"row_heading level0 row6\" >35-39</th>\n",
       "                        <td id=\"T_0ef233a4_0c0f_11eb_a9a1_d0c5d373bd02row6_col0\" class=\"data row6 col0\" >41</td>\n",
       "                        <td id=\"T_0ef233a4_0c0f_11eb_a9a1_d0c5d373bd02row6_col1\" class=\"data row6 col1\" >$3.60</td>\n",
       "                        <td id=\"T_0ef233a4_0c0f_11eb_a9a1_d0c5d373bd02row6_col2\" class=\"data row6 col2\" >$147.67</td>\n",
       "                        <td id=\"T_0ef233a4_0c0f_11eb_a9a1_d0c5d373bd02row6_col3\" class=\"data row6 col3\" >$4.76</td>\n",
       "            </tr>\n",
       "            <tr>\n",
       "                        <th id=\"T_0ef233a4_0c0f_11eb_a9a1_d0c5d373bd02level0_row7\" class=\"row_heading level0 row7\" >>40</th>\n",
       "                        <td id=\"T_0ef233a4_0c0f_11eb_a9a1_d0c5d373bd02row7_col0\" class=\"data row7 col0\" >13</td>\n",
       "                        <td id=\"T_0ef233a4_0c0f_11eb_a9a1_d0c5d373bd02row7_col1\" class=\"data row7 col1\" >$2.94</td>\n",
       "                        <td id=\"T_0ef233a4_0c0f_11eb_a9a1_d0c5d373bd02row7_col2\" class=\"data row7 col2\" >$38.24</td>\n",
       "                        <td id=\"T_0ef233a4_0c0f_11eb_a9a1_d0c5d373bd02row7_col3\" class=\"data row7 col3\" >$3.19</td>\n",
       "            </tr>\n",
       "    </tbody></table>"
      ],
      "text/plain": [
       "<pandas.io.formats.style.Styler at 0x216062baf60>"
      ]
     },
     "execution_count": 175,
     "metadata": {},
     "output_type": "execute_result"
    }
   ],
   "source": [
    "#Purchasing Analysis (Age)\n",
    "#Bin the purchase_data data frame by age\n",
    "bins = [0, 9, 14, 19, 24, 29, 34, 39, 100]\n",
    "group_names = ['<10', '10-14', '15-19', '20-24', '25-29', '30-34', '35-39', '>40']\n",
    "\n",
    "age_group_purchases = heroes_of_pymoli.sort_values('Age', ascending=False)\n",
    "age_group_purchases['Age Group'] = pd.cut(age_group_purchases['Age'], bins, labels=group_names, include_lowest=True)\n",
    "\n",
    "#Run basic calculations to obtain purchase count, avg. purchase price, avg. purchase total per person etc. in the table below\n",
    "age_purchases = age_group_purchases.groupby(['Age Group']).count()['Purchase ID']\n",
    "age_avg_purchase = age_group_purchases.groupby(['Age Group']).mean()['Price']\n",
    "age_total_purchase = (age_purchases * age_avg_purchase)\n",
    "age_avg_per_person = (age_total_purchase / count)\n",
    "age_avg_per_person\n",
    "\n",
    "#Create a summary data frame to hold the results\n",
    "age_group_analysis = pd.DataFrame({'Purchase Count':age_purchases, 'Average Purchase Price':age_avg_purchase, 'Total Purchase Value':age_total_purchase, 'Avg Purchase Per Person':age_avg_per_person})\n",
    "\n",
    "#Display the summary data frame\n",
    "age_group_analysis.style.format({'Average Purchase Price': '${:.2f}', 'Total Purchase Value': '${:.2f}', 'Avg Purchase Per Person': '${:.2f}'})"
   ]
  },
  {
   "cell_type": "code",
   "execution_count": 176,
   "metadata": {},
   "outputs": [
    {
     "data": {
      "text/html": [
       "<style  type=\"text/css\" >\n",
       "</style><table id=\"T_142c5250_0c0f_11eb_92f4_d0c5d373bd02\" ><thead>    <tr>        <th class=\"blank level0\" ></th>        <th class=\"col_heading level0 col0\" >Purchase Count</th>        <th class=\"col_heading level0 col1\" >Average Purchase Price</th>        <th class=\"col_heading level0 col2\" >Total Purchase Value</th>    </tr>    <tr>        <th class=\"index_name level0\" >SN</th>        <th class=\"blank\" ></th>        <th class=\"blank\" ></th>        <th class=\"blank\" ></th>    </tr></thead><tbody>\n",
       "                <tr>\n",
       "                        <th id=\"T_142c5250_0c0f_11eb_92f4_d0c5d373bd02level0_row0\" class=\"row_heading level0 row0\" >Lisosia93</th>\n",
       "                        <td id=\"T_142c5250_0c0f_11eb_92f4_d0c5d373bd02row0_col0\" class=\"data row0 col0\" >5</td>\n",
       "                        <td id=\"T_142c5250_0c0f_11eb_92f4_d0c5d373bd02row0_col1\" class=\"data row0 col1\" >$3.79</td>\n",
       "                        <td id=\"T_142c5250_0c0f_11eb_92f4_d0c5d373bd02row0_col2\" class=\"data row0 col2\" >$18.96</td>\n",
       "            </tr>\n",
       "            <tr>\n",
       "                        <th id=\"T_142c5250_0c0f_11eb_92f4_d0c5d373bd02level0_row1\" class=\"row_heading level0 row1\" >Idastidru52</th>\n",
       "                        <td id=\"T_142c5250_0c0f_11eb_92f4_d0c5d373bd02row1_col0\" class=\"data row1 col0\" >4</td>\n",
       "                        <td id=\"T_142c5250_0c0f_11eb_92f4_d0c5d373bd02row1_col1\" class=\"data row1 col1\" >$3.86</td>\n",
       "                        <td id=\"T_142c5250_0c0f_11eb_92f4_d0c5d373bd02row1_col2\" class=\"data row1 col2\" >$15.45</td>\n",
       "            </tr>\n",
       "            <tr>\n",
       "                        <th id=\"T_142c5250_0c0f_11eb_92f4_d0c5d373bd02level0_row2\" class=\"row_heading level0 row2\" >Chamjask73</th>\n",
       "                        <td id=\"T_142c5250_0c0f_11eb_92f4_d0c5d373bd02row2_col0\" class=\"data row2 col0\" >3</td>\n",
       "                        <td id=\"T_142c5250_0c0f_11eb_92f4_d0c5d373bd02row2_col1\" class=\"data row2 col1\" >$4.61</td>\n",
       "                        <td id=\"T_142c5250_0c0f_11eb_92f4_d0c5d373bd02row2_col2\" class=\"data row2 col2\" >$13.83</td>\n",
       "            </tr>\n",
       "            <tr>\n",
       "                        <th id=\"T_142c5250_0c0f_11eb_92f4_d0c5d373bd02level0_row3\" class=\"row_heading level0 row3\" >Iral74</th>\n",
       "                        <td id=\"T_142c5250_0c0f_11eb_92f4_d0c5d373bd02row3_col0\" class=\"data row3 col0\" >4</td>\n",
       "                        <td id=\"T_142c5250_0c0f_11eb_92f4_d0c5d373bd02row3_col1\" class=\"data row3 col1\" >$3.40</td>\n",
       "                        <td id=\"T_142c5250_0c0f_11eb_92f4_d0c5d373bd02row3_col2\" class=\"data row3 col2\" >$13.62</td>\n",
       "            </tr>\n",
       "            <tr>\n",
       "                        <th id=\"T_142c5250_0c0f_11eb_92f4_d0c5d373bd02level0_row4\" class=\"row_heading level0 row4\" >Iskadarya95</th>\n",
       "                        <td id=\"T_142c5250_0c0f_11eb_92f4_d0c5d373bd02row4_col0\" class=\"data row4 col0\" >3</td>\n",
       "                        <td id=\"T_142c5250_0c0f_11eb_92f4_d0c5d373bd02row4_col1\" class=\"data row4 col1\" >$4.37</td>\n",
       "                        <td id=\"T_142c5250_0c0f_11eb_92f4_d0c5d373bd02row4_col2\" class=\"data row4 col2\" >$13.10</td>\n",
       "            </tr>\n",
       "    </tbody></table>"
      ],
      "text/plain": [
       "<pandas.io.formats.style.Styler at 0x216064336a0>"
      ]
     },
     "execution_count": 176,
     "metadata": {},
     "output_type": "execute_result"
    }
   ],
   "source": [
    "#Top Spenders\n",
    "#Run basic calculations to obtain purchase count, average purchase price, and Total Purchase Price per SN\n",
    "sn_purchases = heroes_of_pymoli.groupby('SN').count()['Purchase ID']\n",
    "sn_avg_purchase = heroes_of_pymoli.groupby('SN').mean()['Price']\n",
    "sn_total_purchase = sn_purchases * sn_avg_purchase\n",
    "\n",
    "#Create a summary data frame to hold the results\n",
    "sn_summary = pd.DataFrame({'Purchase Count':sn_purchases, 'Average Purchase Price':sn_avg_purchase, 'Total Purchase Value':sn_total_purchase})\n",
    "\n",
    "#Sort the total purchase value column in descending order\n",
    "sn_summary_sorted = sn_summary.sort_values('Total Purchase Value', ascending=False)\n",
    "\n",
    "#Display a preview of the summary data frame\n",
    "sn_summary_sorted.head().style.format({'Average Purchase Price': '${:.2f}', 'Total Purchase Value': '${:.2f}'})\n"
   ]
  },
  {
   "cell_type": "code",
   "execution_count": 177,
   "metadata": {},
   "outputs": [
    {
     "data": {
      "text/html": [
       "<style  type=\"text/css\" >\n",
       "</style><table id=\"T_27626558_0c0f_11eb_be2c_d0c5d373bd02\" ><thead>    <tr>        <th class=\"blank\" ></th>        <th class=\"blank level0\" ></th>        <th class=\"col_heading level0 col0\" >Purchase Count</th>        <th class=\"col_heading level0 col1\" >Item Price</th>        <th class=\"col_heading level0 col2\" >Total Purchase Value</th>    </tr>    <tr>        <th class=\"index_name level0\" >Item ID</th>        <th class=\"index_name level1\" >Item Name</th>        <th class=\"blank\" ></th>        <th class=\"blank\" ></th>        <th class=\"blank\" ></th>    </tr></thead><tbody>\n",
       "                <tr>\n",
       "                        <th id=\"T_27626558_0c0f_11eb_be2c_d0c5d373bd02level0_row0\" class=\"row_heading level0 row0\" >92</th>\n",
       "                        <th id=\"T_27626558_0c0f_11eb_be2c_d0c5d373bd02level1_row0\" class=\"row_heading level1 row0\" >Final Critic</th>\n",
       "                        <td id=\"T_27626558_0c0f_11eb_be2c_d0c5d373bd02row0_col0\" class=\"data row0 col0\" >13</td>\n",
       "                        <td id=\"T_27626558_0c0f_11eb_be2c_d0c5d373bd02row0_col1\" class=\"data row0 col1\" >$4.61</td>\n",
       "                        <td id=\"T_27626558_0c0f_11eb_be2c_d0c5d373bd02row0_col2\" class=\"data row0 col2\" >$59.99</td>\n",
       "            </tr>\n",
       "            <tr>\n",
       "                        <th id=\"T_27626558_0c0f_11eb_be2c_d0c5d373bd02level0_row1\" class=\"row_heading level0 row1\" >178</th>\n",
       "                        <th id=\"T_27626558_0c0f_11eb_be2c_d0c5d373bd02level1_row1\" class=\"row_heading level1 row1\" >Oathbreaker, Last Hope of the Breaking Storm</th>\n",
       "                        <td id=\"T_27626558_0c0f_11eb_be2c_d0c5d373bd02row1_col0\" class=\"data row1 col0\" >12</td>\n",
       "                        <td id=\"T_27626558_0c0f_11eb_be2c_d0c5d373bd02row1_col1\" class=\"data row1 col1\" >$4.23</td>\n",
       "                        <td id=\"T_27626558_0c0f_11eb_be2c_d0c5d373bd02row1_col2\" class=\"data row1 col2\" >$50.76</td>\n",
       "            </tr>\n",
       "            <tr>\n",
       "                        <th id=\"T_27626558_0c0f_11eb_be2c_d0c5d373bd02level0_row2\" class=\"row_heading level0 row2\" >145</th>\n",
       "                        <th id=\"T_27626558_0c0f_11eb_be2c_d0c5d373bd02level1_row2\" class=\"row_heading level1 row2\" >Fiery Glass Crusader</th>\n",
       "                        <td id=\"T_27626558_0c0f_11eb_be2c_d0c5d373bd02row2_col0\" class=\"data row2 col0\" >9</td>\n",
       "                        <td id=\"T_27626558_0c0f_11eb_be2c_d0c5d373bd02row2_col1\" class=\"data row2 col1\" >$4.58</td>\n",
       "                        <td id=\"T_27626558_0c0f_11eb_be2c_d0c5d373bd02row2_col2\" class=\"data row2 col2\" >$41.22</td>\n",
       "            </tr>\n",
       "            <tr>\n",
       "                        <th id=\"T_27626558_0c0f_11eb_be2c_d0c5d373bd02level0_row3\" class=\"row_heading level0 row3\" >132</th>\n",
       "                        <th id=\"T_27626558_0c0f_11eb_be2c_d0c5d373bd02level1_row3\" class=\"row_heading level1 row3\" >Persuasion</th>\n",
       "                        <td id=\"T_27626558_0c0f_11eb_be2c_d0c5d373bd02row3_col0\" class=\"data row3 col0\" >9</td>\n",
       "                        <td id=\"T_27626558_0c0f_11eb_be2c_d0c5d373bd02row3_col1\" class=\"data row3 col1\" >$3.22</td>\n",
       "                        <td id=\"T_27626558_0c0f_11eb_be2c_d0c5d373bd02row3_col2\" class=\"data row3 col2\" >$28.99</td>\n",
       "            </tr>\n",
       "            <tr>\n",
       "                        <th id=\"T_27626558_0c0f_11eb_be2c_d0c5d373bd02level0_row4\" class=\"row_heading level0 row4\" >108</th>\n",
       "                        <th id=\"T_27626558_0c0f_11eb_be2c_d0c5d373bd02level1_row4\" class=\"row_heading level1 row4\" >Extraction, Quickblade Of Trembling Hands</th>\n",
       "                        <td id=\"T_27626558_0c0f_11eb_be2c_d0c5d373bd02row4_col0\" class=\"data row4 col0\" >9</td>\n",
       "                        <td id=\"T_27626558_0c0f_11eb_be2c_d0c5d373bd02row4_col1\" class=\"data row4 col1\" >$3.53</td>\n",
       "                        <td id=\"T_27626558_0c0f_11eb_be2c_d0c5d373bd02row4_col2\" class=\"data row4 col2\" >$31.77</td>\n",
       "            </tr>\n",
       "    </tbody></table>"
      ],
      "text/plain": [
       "<pandas.io.formats.style.Styler at 0x2160644deb8>"
      ]
     },
     "execution_count": 177,
     "metadata": {},
     "output_type": "execute_result"
    }
   ],
   "source": [
    "#Most Popular Items\n",
    "#Retrieve the Item ID, Item Name, and Item Price columns\n",
    "\n",
    "popularity = heroes_of_pymoli[['Item ID', 'Item Name', 'Price']]\n",
    "\n",
    "#Group by Item ID and Item Name. Perform calculations to obtain purchase count, average item price, and total purchase value\n",
    "\n",
    "item_purchases = heroes_of_pymoli.groupby(['Item ID', 'Item Name']).count()['Purchase ID']\n",
    "item_avg_purchase = heroes_of_pymoli.groupby(['Item ID', 'Item Name']).mean()['Price']\n",
    "item_total_purchase = item_purchases * item_avg_purchase\n",
    "\n",
    "#Create a summary data frame to hold the results\n",
    "popularity_summary = pd.DataFrame({'Purchase Count':item_purchases, 'Item Price':item_avg_purchase, 'Total Purchase Value': item_total_purchase})\n",
    "\n",
    "#Sort the purchase count column in descending order\n",
    "popularity_summary_sorted = popularity_summary.sort_values('Purchase Count', ascending=False)\n",
    "#Optional: give the displayed data cleaner formatting\n",
    "#Display a preview of the summary data frame\n",
    "popularity_summary_sorted.head().style.format({'Item Price': '${:.2f}', 'Total Purchase Value': '${:.2f}'})"
   ]
  },
  {
   "cell_type": "code",
   "execution_count": 178,
   "metadata": {},
   "outputs": [
    {
     "data": {
      "text/html": [
       "<style  type=\"text/css\" >\n",
       "</style><table id=\"T_33a7d668_0c0f_11eb_9a26_d0c5d373bd02\" ><thead>    <tr>        <th class=\"blank\" ></th>        <th class=\"blank level0\" ></th>        <th class=\"col_heading level0 col0\" >Purchase Count</th>        <th class=\"col_heading level0 col1\" >Item Price</th>        <th class=\"col_heading level0 col2\" >Total Purchase Value</th>    </tr>    <tr>        <th class=\"index_name level0\" >Item ID</th>        <th class=\"index_name level1\" >Item Name</th>        <th class=\"blank\" ></th>        <th class=\"blank\" ></th>        <th class=\"blank\" ></th>    </tr></thead><tbody>\n",
       "                <tr>\n",
       "                        <th id=\"T_33a7d668_0c0f_11eb_9a26_d0c5d373bd02level0_row0\" class=\"row_heading level0 row0\" >92</th>\n",
       "                        <th id=\"T_33a7d668_0c0f_11eb_9a26_d0c5d373bd02level1_row0\" class=\"row_heading level1 row0\" >Final Critic</th>\n",
       "                        <td id=\"T_33a7d668_0c0f_11eb_9a26_d0c5d373bd02row0_col0\" class=\"data row0 col0\" >13</td>\n",
       "                        <td id=\"T_33a7d668_0c0f_11eb_9a26_d0c5d373bd02row0_col1\" class=\"data row0 col1\" >$4.61</td>\n",
       "                        <td id=\"T_33a7d668_0c0f_11eb_9a26_d0c5d373bd02row0_col2\" class=\"data row0 col2\" >$59.99</td>\n",
       "            </tr>\n",
       "            <tr>\n",
       "                        <th id=\"T_33a7d668_0c0f_11eb_9a26_d0c5d373bd02level0_row1\" class=\"row_heading level0 row1\" >178</th>\n",
       "                        <th id=\"T_33a7d668_0c0f_11eb_9a26_d0c5d373bd02level1_row1\" class=\"row_heading level1 row1\" >Oathbreaker, Last Hope of the Breaking Storm</th>\n",
       "                        <td id=\"T_33a7d668_0c0f_11eb_9a26_d0c5d373bd02row1_col0\" class=\"data row1 col0\" >12</td>\n",
       "                        <td id=\"T_33a7d668_0c0f_11eb_9a26_d0c5d373bd02row1_col1\" class=\"data row1 col1\" >$4.23</td>\n",
       "                        <td id=\"T_33a7d668_0c0f_11eb_9a26_d0c5d373bd02row1_col2\" class=\"data row1 col2\" >$50.76</td>\n",
       "            </tr>\n",
       "            <tr>\n",
       "                        <th id=\"T_33a7d668_0c0f_11eb_9a26_d0c5d373bd02level0_row2\" class=\"row_heading level0 row2\" >82</th>\n",
       "                        <th id=\"T_33a7d668_0c0f_11eb_9a26_d0c5d373bd02level1_row2\" class=\"row_heading level1 row2\" >Nirvana</th>\n",
       "                        <td id=\"T_33a7d668_0c0f_11eb_9a26_d0c5d373bd02row2_col0\" class=\"data row2 col0\" >9</td>\n",
       "                        <td id=\"T_33a7d668_0c0f_11eb_9a26_d0c5d373bd02row2_col1\" class=\"data row2 col1\" >$4.90</td>\n",
       "                        <td id=\"T_33a7d668_0c0f_11eb_9a26_d0c5d373bd02row2_col2\" class=\"data row2 col2\" >$44.10</td>\n",
       "            </tr>\n",
       "            <tr>\n",
       "                        <th id=\"T_33a7d668_0c0f_11eb_9a26_d0c5d373bd02level0_row3\" class=\"row_heading level0 row3\" >145</th>\n",
       "                        <th id=\"T_33a7d668_0c0f_11eb_9a26_d0c5d373bd02level1_row3\" class=\"row_heading level1 row3\" >Fiery Glass Crusader</th>\n",
       "                        <td id=\"T_33a7d668_0c0f_11eb_9a26_d0c5d373bd02row3_col0\" class=\"data row3 col0\" >9</td>\n",
       "                        <td id=\"T_33a7d668_0c0f_11eb_9a26_d0c5d373bd02row3_col1\" class=\"data row3 col1\" >$4.58</td>\n",
       "                        <td id=\"T_33a7d668_0c0f_11eb_9a26_d0c5d373bd02row3_col2\" class=\"data row3 col2\" >$41.22</td>\n",
       "            </tr>\n",
       "            <tr>\n",
       "                        <th id=\"T_33a7d668_0c0f_11eb_9a26_d0c5d373bd02level0_row4\" class=\"row_heading level0 row4\" >103</th>\n",
       "                        <th id=\"T_33a7d668_0c0f_11eb_9a26_d0c5d373bd02level1_row4\" class=\"row_heading level1 row4\" >Singed Scalpel</th>\n",
       "                        <td id=\"T_33a7d668_0c0f_11eb_9a26_d0c5d373bd02row4_col0\" class=\"data row4 col0\" >8</td>\n",
       "                        <td id=\"T_33a7d668_0c0f_11eb_9a26_d0c5d373bd02row4_col1\" class=\"data row4 col1\" >$4.35</td>\n",
       "                        <td id=\"T_33a7d668_0c0f_11eb_9a26_d0c5d373bd02row4_col2\" class=\"data row4 col2\" >$34.80</td>\n",
       "            </tr>\n",
       "    </tbody></table>"
      ],
      "text/plain": [
       "<pandas.io.formats.style.Styler at 0x2160643c898>"
      ]
     },
     "execution_count": 178,
     "metadata": {},
     "output_type": "execute_result"
    }
   ],
   "source": [
    "#Most Profitable Items\n",
    "#Sort the above table by total purchase value in descending order\n",
    "\n",
    "profitability = popularity_summary.sort_values('Total Purchase Value', ascending=False)\n",
    "\n",
    "#Optional: give the displayed data cleaner formatting\n",
    "#Display a preview of the data frame\n",
    "profitability.head().style.format({'Item Price': '${:.2f}', 'Total Purchase Value': '${:.2f}'})"
   ]
  },
  {
   "cell_type": "code",
   "execution_count": null,
   "metadata": {},
   "outputs": [],
   "source": []
  }
 ],
 "metadata": {
  "kernelspec": {
   "display_name": "Python [conda env:PythonData] *",
   "language": "python",
   "name": "conda-env-PythonData-py"
  },
  "language_info": {
   "codemirror_mode": {
    "name": "ipython",
    "version": 3
   },
   "file_extension": ".py",
   "mimetype": "text/x-python",
   "name": "python",
   "nbconvert_exporter": "python",
   "pygments_lexer": "ipython3",
   "version": "3.7.1"
  }
 },
 "nbformat": 4,
 "nbformat_minor": 4
}
